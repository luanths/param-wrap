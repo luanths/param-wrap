{
 "cells": [
  {
   "cell_type": "code",
   "execution_count": null,
   "id": "naval-belief",
   "metadata": {},
   "outputs": [],
   "source": [
    "import numpy as np\n",
    "import param\n",
    "import panel as pn\n",
    "\n",
    "pn.extension()"
   ]
  },
  {
   "cell_type": "code",
   "execution_count": null,
   "id": "incident-hamilton",
   "metadata": {},
   "outputs": [],
   "source": [
    "def link_param_method(obj: param.Parameterized, target: str, source: str):\n",
    "    \"\"\"Link a parameterized method to a target parameter.\n",
    "\n",
    "    When the dependencies of the source method change, set the target\n",
    "    parameter to the return value of the source method.\n",
    "    \"\"\"\n",
    "\n",
    "    def update(*events):\n",
    "        setattr(obj, target, getattr(obj, source)())\n",
    "\n",
    "    for dep in obj.param.params_depended_on(source):\n",
    "        (dep.inst or dep.cls).param.watch(update, dep.name, dep.what)\n",
    "\n",
    "    update()"
   ]
  },
  {
   "cell_type": "code",
   "execution_count": null,
   "id": "vocational-therapy",
   "metadata": {},
   "outputs": [],
   "source": [
    "class Sine(param.Parameterized):\n",
    "    phase = param.Number(default=0, bounds=(0, np.pi))\n",
    "    frequency = param.Number(default=1, bounds=(0.1, 2))\n",
    "    \n",
    "    def __init__(self, **params):\n",
    "        super().__init__(**params)\n",
    "        link_param_method(self, \"data\", \"compute_data\")\n",
    "    \n",
    "    @param.depends(\"phase\", \"frequency\")\n",
    "    def compute_data(self):\n",
    "        return np.sin(np.linspace(0, np.pi * 3, 40) * self.frequency + self.phase)\n",
    "    \n",
    "    data = param.Number(precedence=-1)\n",
    "\n",
    "    @param.depends(\"data\")\n",
    "    def view(self):\n",
    "        y = self.data\n",
    "        y = ((y - y.min()) / y.ptp()) * 20\n",
    "        array = np.array(\n",
    "            [list((' ' * (int(round(d)) - 1) + '*').ljust(20)) for d in y])\n",
    "        return pn.pane.Str('\\n'.join([''.join(r) for r in array.T]), height=380, width=500)\n",
    "    \n",
    "    @param.depends(\"data\")\n",
    "    def summary(self):\n",
    "        return pn.pane.Str(\n",
    "            f\"Argmax: {np.argmax(self.data)}\\n\"\n",
    "            f\"Argmin: {np.argmin(self.data)}\\n\"\n",
    "            f\"Mean: {np.mean(self.data):.3f}\\n\"\n",
    "            f\"Variance: {np.var(self.data):.3f}\\n\"\n",
    "        )\n",
    "\n",
    "\n",
    "sine = Sine(name='ASCII Sine Wave')\n",
    "pn.Row(sine.param, sine.view, sine.summary)"
   ]
  }
 ],
 "metadata": {
  "kernelspec": {
   "display_name": "Python 3",
   "language": "python",
   "name": "python3"
  },
  "language_info": {
   "codemirror_mode": {
    "name": "ipython",
    "version": 3
   },
   "file_extension": ".py",
   "mimetype": "text/x-python",
   "name": "python",
   "nbconvert_exporter": "python",
   "pygments_lexer": "ipython3",
   "version": "3.8.5"
  }
 },
 "nbformat": 4,
 "nbformat_minor": 5
}
